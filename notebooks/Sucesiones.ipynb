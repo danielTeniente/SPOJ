{
 "cells": [
  {
   "cell_type": "markdown",
   "metadata": {},
   "source": [
    "# ¿Cuántos Triángulos?"
   ]
  },
  {
   "cell_type": "markdown",
   "metadata": {},
   "source": [
    "Este ejercicio formó parte del Devsu Code Jam de 2019. Era uno de los que más puntos valía y gracias a él logré colocarme en el lugar 19 de 100. El ejericio consistía en contar cuántos triángulos había en una figura. La figura tenía varios pisos, cada vez que agregabas un piso, la cantidad de triángulos crecía de forma considerable. Entonces, resultó obvio que el problema no se resolvería con un for, pues la complejidad del algoritmo sería tanta que el juez me arrojaría un error de tiempo límite excedido.  \n",
    "Espero disculpen mi mala memoria, no recuerdo del todo cómo era el planteamiento del problema y eso es perjudicial para la explicación. Sin embargo, creo que puedo transmitir el núcleo del problema de forma adecuada.  \n",
    "Sobre el papel, ya que, casi siempre, en estas competencias te regalan hojas de papel para que hagas tus cárculos; me pusé a contar manualmente cuántos triángulos habían hasta el piso 4, me parece. Entonces, mi conteo resultó de la siguiente forma: 1 piso: 1 triángulo, 2 pisos: 4 triángulos, 3 pisos: 19 triángulos, 4 pisos: 31 triángulos. Y estoy seguro de que el cuarto piso lo conté de mala gana y al apuro. Lo importante es que después de anotar estos números, inmediatamente me puse a anotar la diferencia que había entre un número y el siguiente: \n",
    "* 1,4,10,19,31\n",
    "* 1+3, 4+6, 10+9, 19+12  \n",
    "\n"
   ]
  },
  {
   "cell_type": "markdown",
   "metadata": {},
   "source": [
    "Se trataba de una sucesión dentro de otra sucesión.  \n",
    "Ese momento fue mágico porque había descubierto las sucesiones hace poco. Antes de usar sucesiones utilizaba ciclos for y eso arroja un error de tiempo límite."
   ]
  },
  {
   "cell_type": "code",
   "execution_count": 1,
   "metadata": {},
   "outputs": [
    {
     "name": "stdout",
     "output_type": "stream",
     "text": [
      "1\n",
      "4\n",
      "10\n",
      "19\n",
      "31\n",
      "46\n",
      "64\n",
      "85\n",
      "109\n"
     ]
    }
   ],
   "source": [
    "n = 10 \n",
    "j = 0\n",
    "sucesion = 1\n",
    "for i in range(1,n):\n",
    "    sucesion += j\n",
    "    j += 3 \n",
    "    print(sucesion)"
   ]
  },
  {
   "cell_type": "markdown",
   "metadata": {},
   "source": [
    "Entonces, antes de poder entrar en la solución de este problema debemos hablar de una sucesión básica."
   ]
  },
  {
   "cell_type": "code",
   "execution_count": 4,
   "metadata": {},
   "outputs": [
    {
     "name": "stdout",
     "output_type": "stream",
     "text": [
      "1\n",
      "5\n",
      "9\n",
      "13\n",
      "17\n",
      "21\n",
      "25\n",
      "29\n",
      "33\n",
      "37\n"
     ]
    }
   ],
   "source": [
    "n = 10\n",
    "d = 4\n",
    "sucesion = 1\n",
    "for i in range(1,n+1):\n",
    "    print(sucesion)\n",
    "    sucesion += d"
   ]
  },
  {
   "cell_type": "markdown",
   "metadata": {},
   "source": [
    "Esta página me sirvió mucho: https://www.matesfacil.com/ESO/progresiones/sucesion-aritmetica-formulas-ejemplos-problemas-resueltos.html  \n",
    "        \n",
    "En una sucesión básica (llamada sucesión aritmética) existe un elemento fundamental llamado **diferencia** que es la cantida que se suma entre cada miembro de la sucesión. En el ejemplo de arriba, la diferencia es 4.  \n",
    "Para esta clase de sucesiones existe un conjunto de fórmulas que nos serán de mucha utilidad:\n",
    "* Para encontrar el elemento que ocupa la posición n: $a_{n} = a_{1} + d \\times{(n-1)}$\n",
    "* Para encontrar la suma de los elementos de una sucesión hasta n: $S_{n} = n\\times{\\frac{a_{1}+a_{n}}{2}}$"
   ]
  },
  {
   "cell_type": "markdown",
   "metadata": {},
   "source": [
    "Ahora probemos ambas formas de obtener un número que ocupa la posición n:"
   ]
  },
  {
   "cell_type": "code",
   "execution_count": 12,
   "metadata": {},
   "outputs": [
    {
     "name": "stdout",
     "output_type": "stream",
     "text": [
      "3999999997\n"
     ]
    }
   ],
   "source": [
    "n = 1000000000\n",
    "d = 4\n",
    "sucesion = 1\n",
    "for i in range(1,n):\n",
    "    sucesion += d\n",
    "print(sucesion)"
   ]
  },
  {
   "cell_type": "code",
   "execution_count": 18,
   "metadata": {},
   "outputs": [
    {
     "name": "stdout",
     "output_type": "stream",
     "text": [
      "39999999997\n"
     ]
    }
   ],
   "source": [
    "n = 10000000000\n",
    "d = 4\n",
    "print(1 + d*(n-1))"
   ]
  },
  {
   "cell_type": "markdown",
   "metadata": {},
   "source": [
    "En el primer caso tuve que esperar más de un minuto para que me devuelva la respuesta. Con el segundo método no tarda ni cinco segundos. Este es el gran poder de las sucesiones.  \n",
    "Desde el inicio de mis prácticas para la programación competitiva noté que tener una base matemática era bueno, pero tardé tanto en llegar a las sucesiones que me parece increíble."
   ]
  },
  {
   "cell_type": "markdown",
   "metadata": {},
   "source": [
    "## Sucesión dentro de una sucesión"
   ]
  },
  {
   "cell_type": "markdown",
   "metadata": {},
   "source": [
    "Incluso cuando ya conocía el poder de las sucesiones \"simples\", todavía tenía un problema para la sucesión dentro de otra, de hecho, creo que peleé con ese problema durante más de una semana. En cualquier caso, resolví el enigma durante la competencia del Devsu. Aquel fue un momento casi milagroso.  \n",
    "En sí mismo, si buscan un método o una fórmula para resolver este problema, no lo van a encontrar. Sin embargo, resulta bastante simple, y a pesar de su simpleza, fui incapaz de llegar a esta respuesta al instante.  \n",
    "Primero hay que dejar en claro lo siguiente: la diferencia de la primera sucesión está variando constantemente y por eso es imposible aplicar una fórmula.\n",
    "* d = 3 : 1 + d = 4\n",
    "* d = 6 : 4 + d = 10  \n",
    "* d = 9 : 10 + d = 19"
   ]
  },
  {
   "cell_type": "markdown",
   "metadata": {},
   "source": [
    "Sin embargo, la segunda sucesión es perfectamente manejable:\n",
    "* d = 3 : 3, 6, 9, 12"
   ]
  },
  {
   "cell_type": "markdown",
   "metadata": {},
   "source": [
    "Entonces, ¿cómo transfieres el cálculo de la segunda sucesión a la primera?"
   ]
  },
  {
   "cell_type": "markdown",
   "metadata": {},
   "source": [
    "..."
   ]
  },
  {
   "cell_type": "markdown",
   "metadata": {},
   "source": [
    "..."
   ]
  },
  {
   "cell_type": "markdown",
   "metadata": {},
   "source": [
    "Espero que se detengan un momento a pensar, porque siempre es agradable llegar a una conclusión por cuenta propia."
   ]
  },
  {
   "cell_type": "markdown",
   "metadata": {},
   "source": [
    "..."
   ]
  },
  {
   "cell_type": "markdown",
   "metadata": {},
   "source": [
    "..."
   ]
  },
  {
   "cell_type": "markdown",
   "metadata": {},
   "source": [
    "Observemos el comportamiento de la primera sucesión:\n",
    "* n:\n",
    "* 1: 1\n",
    "* 2: 1+3 = 4\n",
    "* 3: 1+3+6 = 10\n",
    "* 4: 1+3+6+9 = 19\n",
    "* 5: 1+3+6+9+12 = 31"
   ]
  },
  {
   "cell_type": "markdown",
   "metadata": {},
   "source": [
    "Lo único que hacemos es sumar los elementos de la segunda sucesión al primer elemento de la primera sucesión."
   ]
  },
  {
   "cell_type": "markdown",
   "metadata": {},
   "source": [
    "Entonces, si conocemos la suma de los elementos de la segunda sucesión, seremos capaces de devolver el elemento n de la primera sucesión.  \n",
    "Aquí las cosas se pueden poner un poco confusas, pero espero que sean capaces de seguirme: d_n es el elemento de la segunda sucesión, lo llamé así porque pensaba en la diferncia entre número y número de la primera sucesión.\n",
    "* 1: 1 (d_n no ha comenzado)\n",
    "* 2: 1+3 = 4 (d_n se encuentra en el elemento 1: 3)\n",
    "* 3: 1+3+6 = 10 (d_n se encuentra en el elemento 2: 6)\n",
    "* 4: 1+3+6+9 = 19 (d_n se encuentra en el elemento 3: 9)\n",
    "* 5: 1+3+6+9+12 = 31 (d_n se encuentra en el elemento 4: 12)"
   ]
  },
  {
   "cell_type": "markdown",
   "metadata": {},
   "source": [
    "Entonces, si el usuario quiere saber qué número ocupa la posición n de la primera sucesión, debo hacer el cálculo de la suma hasta el elemente n-1 de la segunda sucesión: \n",
    "*  $a_{n-1} = a_{1} + d \\times{(n-1-1)}$\n",
    "* $S_{n-1} = (n-1)\\times{\\frac{a_{1}+a_{n-1}}{2}}$\n"
   ]
  },
  {
   "cell_type": "markdown",
   "metadata": {},
   "source": [
    "Ahora ya podemos entrar al código que me permitió ganar muchos puntos en el Devsu."
   ]
  },
  {
   "cell_type": "code",
   "execution_count": 23,
   "metadata": {},
   "outputs": [],
   "source": [
    "#El problema pedía una función que recibiese n \n",
    "# y retornase el número que ocupa esa posición\n",
    "\n",
    "def triangles(n):\n",
    "    #encuantro el elemento n de la segunda sucesión\n",
    "    #a1 = 3, d = 3\n",
    "     \n",
    "    dn=3+3*(n-2)\n",
    "    \n",
    "    #si n es menor o igual a cero, retorno un menos uno\n",
    "    #porque es imposible obtener esos elementos\n",
    "    #recoredemos que el problema se trataba de contar triángulos en n pisos\n",
    "    \n",
    "    if(n<=0):\n",
    "        return -1\n",
    "    else:\n",
    "        \n",
    "        #realizo la suma de los elementos de la segunda sucesión\n",
    "        sum_total=(n-1)*(3+dn)/2\n",
    "        \n",
    "        #retorno el valor de la suma más el primer elemento de la primera\n",
    "        #sucesión, en este caso: 1\n",
    "        return int(sum_total+1)"
   ]
  },
  {
   "cell_type": "code",
   "execution_count": 24,
   "metadata": {},
   "outputs": [
    {
     "name": "stdout",
     "output_type": "stream",
     "text": [
      "1\n",
      "4\n",
      "10\n",
      "19\n",
      "31\n",
      "46\n",
      "64\n",
      "85\n",
      "109\n",
      "136\n",
      "166\n",
      "199\n",
      "235\n",
      "274\n",
      "316\n",
      "361\n",
      "409\n",
      "460\n",
      "514\n"
     ]
    }
   ],
   "source": [
    "for i in range(1,20):\n",
    "    print(triangles(i))"
   ]
  },
  {
   "cell_type": "code",
   "execution_count": 27,
   "metadata": {},
   "outputs": [
    {
     "data": {
      "text/plain": [
       "149999999984999989248"
      ]
     },
     "execution_count": 27,
     "metadata": {},
     "output_type": "execute_result"
    }
   ],
   "source": [
    "triangles(10000000000) #resuelto es segundos"
   ]
  },
  {
   "cell_type": "code",
   "execution_count": null,
   "metadata": {},
   "outputs": [],
   "source": []
  }
 ],
 "metadata": {
  "kernelspec": {
   "display_name": "Python 3",
   "language": "python",
   "name": "python3"
  },
  "language_info": {
   "codemirror_mode": {
    "name": "ipython",
    "version": 3
   },
   "file_extension": ".py",
   "mimetype": "text/x-python",
   "name": "python",
   "nbconvert_exporter": "python",
   "pygments_lexer": "ipython3",
   "version": "3.6.5"
  }
 },
 "nbformat": 4,
 "nbformat_minor": 2
}
