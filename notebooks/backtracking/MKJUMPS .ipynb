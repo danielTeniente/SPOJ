{
 "cells": [
  {
   "cell_type": "markdown",
   "metadata": {},
   "source": [
    "# Cuántos cuadrados quedan libres después de que se hayan probado todos los posibles caminos."
   ]
  },
  {
   "cell_type": "markdown",
   "metadata": {},
   "source": [
    "Enunciado del problema: https://www.spoj.com/problems/MKJUMPS/"
   ]
  },
  {
   "cell_type": "markdown",
   "metadata": {},
   "source": [
    "El caballo sólo puede saltar en L, entonces, debo establecer sus acciones posibles.  \n",
    "Hay que recordara que 'y' va primero $(y,x)$ porque en la notación de python, las filas son el primer índice."
   ]
  },
  {
   "cell_type": "markdown",
   "metadata": {},
   "source": [
    "$\\begin{bmatrix}\n",
    "x       & (-2,-1) & x         & (-2,1) & x\\\\\n",
    "(-1,-2) & x       & x         & x      & (-1,2)\\\\\n",
    "x       & x       & 'caballo' & x      & x\\\\\n",
    "(1,-2)  & x       & x         & x      & (1,2)\\\\\n",
    "x       & (2,-1)  & x         & (2,1)  & x\n",
    "\\end{bmatrix}$"
   ]
  },
  {
   "cell_type": "code",
   "execution_count": 2,
   "metadata": {},
   "outputs": [],
   "source": [
    "#global\n",
    "acciones = [(-2,-1), (-2,1), (-1,-2), (-1,2), (1,-2), (1,2), (2,-1), (2,1)]"
   ]
  },
  {
   "cell_type": "markdown",
   "metadata": {},
   "source": [
    "Tengo que iterar por cada acción del caballo, pero debo asegurarme de que no pase por el mismo lugar dos veces."
   ]
  },
  {
   "cell_type": "code",
   "execution_count": 53,
   "metadata": {},
   "outputs": [],
   "source": [
    "#global\n",
    "mejor_path = []"
   ]
  },
  {
   "cell_type": "markdown",
   "metadata": {},
   "source": [
    "Seguramente necesite ese path para hacer el cálculo final."
   ]
  },
  {
   "cell_type": "markdown",
   "metadata": {},
   "source": [
    "Mi idea principal es crear una matriz de $10 \\times{10}$ y colocar ceros en los cuadros que no están permitidos."
   ]
  },
  {
   "cell_type": "code",
   "execution_count": 117,
   "metadata": {},
   "outputs": [],
   "source": [
    "row = [0]*10\n",
    "chess_board = []\n",
    "\n",
    "for _ in range(10):\n",
    "    chess_board.append(row.copy())"
   ]
  },
  {
   "cell_type": "code",
   "execution_count": 118,
   "metadata": {},
   "outputs": [
    {
     "data": {
      "text/plain": [
       "[[0, 0, 0, 0, 0, 0, 0, 0, 0, 0],\n",
       " [0, 0, 0, 0, 0, 0, 0, 0, 0, 0],\n",
       " [0, 0, 0, 0, 0, 0, 0, 0, 0, 0],\n",
       " [0, 0, 0, 0, 0, 0, 0, 0, 0, 0],\n",
       " [0, 0, 0, 0, 0, 0, 0, 0, 0, 0],\n",
       " [0, 0, 0, 0, 0, 0, 0, 0, 0, 0],\n",
       " [0, 0, 0, 0, 0, 0, 0, 0, 0, 0],\n",
       " [0, 0, 0, 0, 0, 0, 0, 0, 0, 0],\n",
       " [0, 0, 0, 0, 0, 0, 0, 0, 0, 0],\n",
       " [0, 0, 0, 0, 0, 0, 0, 0, 0, 0]]"
      ]
     },
     "execution_count": 118,
     "metadata": {},
     "output_type": "execute_result"
    }
   ],
   "source": [
    "chess_board"
   ]
  },
  {
   "cell_type": "markdown",
   "metadata": {},
   "source": [
    "Manejaré la entrada después, ahora lo que importa es tener un chess_board con el cual realizar pruebas."
   ]
  },
  {
   "cell_type": "code",
   "execution_count": 119,
   "metadata": {},
   "outputs": [],
   "source": [
    "chess_board[0][0:3] = [1] * len(chess_board[0][0:3]) \n",
    "chess_board[1][0:3] = [1] * len(chess_board[0][0:3]) \n",
    "chess_board[2][0:4] = [1] * len(chess_board[0][0:4]) \n",
    "chess_board[3][0:4] = [1] * len(chess_board[0][0:4]) \n",
    "chess_board[4][1:4] = [1] * len(chess_board[0][1:4]) \n",
    "chess_board[5][1:8] = [1] * len(chess_board[0][1:8]) \n",
    "chess_board[6][4:8] = [1] * len(chess_board[0][4:8]) "
   ]
  },
  {
   "cell_type": "code",
   "execution_count": 132,
   "metadata": {},
   "outputs": [
    {
     "data": {
      "text/plain": [
       "[[1, 1, 1, 0, 0, 0, 0, 0, 0, 0],\n",
       " [1, 1, 1, 0, 0, 0, 0, 0, 0, 0],\n",
       " [1, 1, 1, 1, 0, 0, 0, 0, 0, 0],\n",
       " [1, 1, 1, 1, 0, 0, 0, 0, 0, 0],\n",
       " [0, 1, 1, 1, 0, 0, 0, 0, 0, 0],\n",
       " [0, 1, 1, 1, 1, 1, 1, 1, 0, 0],\n",
       " [0, 0, 0, 0, 1, 1, 1, 1, 0, 0],\n",
       " [0, 0, 0, 0, 0, 0, 0, 0, 0, 0],\n",
       " [0, 0, 0, 0, 0, 0, 0, 0, 0, 0],\n",
       " [0, 0, 0, 0, 0, 0, 0, 0, 0, 0]]"
      ]
     },
     "execution_count": 132,
     "metadata": {},
     "output_type": "execute_result"
    }
   ],
   "source": [
    "chess_board"
   ]
  },
  {
   "cell_type": "markdown",
   "metadata": {},
   "source": [
    "Tengo el chessboard usado en la explicación de SPOJ."
   ]
  },
  {
   "cell_type": "code",
   "execution_count": 133,
   "metadata": {},
   "outputs": [],
   "source": [
    "def salto_caballo(idx_actual, path_actual):    \n",
    "    global acciones\n",
    "    global chess_board\n",
    "    global mejor_path\n",
    "    \n",
    "    \n",
    "    #agrego el índice actual al path\n",
    "    path_actual.append(idx_actual)\n",
    "    \n",
    "    #bandera que controla que haya una jugada siguiente\n",
    "    bandera_siguiente = False\n",
    "    for accion in acciones:\n",
    "        new_idx = (idx_actual[0]+accion[0],idx_actual[1]+accion[1])\n",
    "        #el nuevo índice no fue usado con anterioridad\n",
    "        #el nuevo índice es parte del tablero\n",
    "        if((new_idx not in path_actual) and \n",
    "           chess_board[new_idx[0]][new_idx[1]]!= 0):\n",
    "            bander_siguiente = True\n",
    "            salto_caballo(new_idx, path_actual)\n",
    "            #si ya ha retornado, entonces se debe deshacer la jugada\n",
    "            path_actual.pop(-1)\n",
    "            \n",
    "    #si no hubo un movimiento siguiente, el path se terminó\n",
    "    if(not bandera_siguiente):\n",
    "        if(len(path_actual)>len(mejor_path)):\n",
    "            mejor_path = path_actual.copy()\n",
    "            \n",
    "    "
   ]
  },
  {
   "cell_type": "code",
   "execution_count": 134,
   "metadata": {},
   "outputs": [],
   "source": [
    "mejor_path = []\n",
    "salto_caballo((0,0),[])"
   ]
  },
  {
   "cell_type": "code",
   "execution_count": 135,
   "metadata": {},
   "outputs": [
    {
     "data": {
      "text/plain": [
       "[(0, 0),\n",
       " (1, 2),\n",
       " (2, 0),\n",
       " (0, 1),\n",
       " (2, 2),\n",
       " (1, 0),\n",
       " (0, 2),\n",
       " (2, 1),\n",
       " (4, 2),\n",
       " (5, 4),\n",
       " (3, 3),\n",
       " (4, 1),\n",
       " (5, 3),\n",
       " (3, 2),\n",
       " (5, 1),\n",
       " (3, 0),\n",
       " (1, 1),\n",
       " (2, 3),\n",
       " (3, 1),\n",
       " (5, 2),\n",
       " (6, 4),\n",
       " (4, 3),\n",
       " (5, 5),\n",
       " (6, 7)]"
      ]
     },
     "execution_count": 135,
     "metadata": {},
     "output_type": "execute_result"
    }
   ],
   "source": [
    "mejor_path"
   ]
  },
  {
   "cell_type": "code",
   "execution_count": 136,
   "metadata": {},
   "outputs": [
    {
     "data": {
      "text/plain": [
       "24"
      ]
     },
     "execution_count": 136,
     "metadata": {},
     "output_type": "execute_result"
    }
   ],
   "source": [
    "len(mejor_path)"
   ]
  },
  {
   "cell_type": "code",
   "execution_count": 32,
   "metadata": {},
   "outputs": [],
   "source": [
    "cuadros_disponibles = 0\n",
    "for i in range(len(chess_board)):\n",
    "    cuadros_disponibles += sum(chess_board[i])"
   ]
  },
  {
   "cell_type": "code",
   "execution_count": 130,
   "metadata": {},
   "outputs": [
    {
     "data": {
      "text/plain": [
       "28"
      ]
     },
     "execution_count": 130,
     "metadata": {},
     "output_type": "execute_result"
    }
   ],
   "source": [
    "cuadros_disponibles"
   ]
  },
  {
   "cell_type": "code",
   "execution_count": 131,
   "metadata": {},
   "outputs": [
    {
     "data": {
      "text/plain": [
       "4"
      ]
     },
     "execution_count": 131,
     "metadata": {},
     "output_type": "execute_result"
    }
   ],
   "source": [
    "#cuadros que quedaron libres \n",
    "cuadros_disponibles - len(mejor_path)"
   ]
  },
  {
   "cell_type": "code",
   "execution_count": 137,
   "metadata": {},
   "outputs": [],
   "source": [
    "row = [0]*10\n",
    "chess_board = []\n",
    "\n",
    "for _ in range(10):\n",
    "    chess_board.append(row.copy())\n",
    "    \n",
    "chess_board[0][0:3] = [1] * len(chess_board[0][0:3]) \n",
    "chess_board[1][0:3] = [1] * len(chess_board[0][0:3]) \n",
    "chess_board[2][0:3] = [1] * len(chess_board[0][0:3]) "
   ]
  },
  {
   "cell_type": "code",
   "execution_count": 138,
   "metadata": {},
   "outputs": [
    {
     "data": {
      "text/plain": [
       "[[1, 1, 1, 0, 0, 0, 0, 0, 0, 0],\n",
       " [1, 1, 1, 0, 0, 0, 0, 0, 0, 0],\n",
       " [1, 1, 1, 0, 0, 0, 0, 0, 0, 0],\n",
       " [0, 0, 0, 0, 0, 0, 0, 0, 0, 0],\n",
       " [0, 0, 0, 0, 0, 0, 0, 0, 0, 0],\n",
       " [0, 0, 0, 0, 0, 0, 0, 0, 0, 0],\n",
       " [0, 0, 0, 0, 0, 0, 0, 0, 0, 0],\n",
       " [0, 0, 0, 0, 0, 0, 0, 0, 0, 0],\n",
       " [0, 0, 0, 0, 0, 0, 0, 0, 0, 0],\n",
       " [0, 0, 0, 0, 0, 0, 0, 0, 0, 0]]"
      ]
     },
     "execution_count": 138,
     "metadata": {},
     "output_type": "execute_result"
    }
   ],
   "source": [
    "chess_board"
   ]
  },
  {
   "cell_type": "code",
   "execution_count": 139,
   "metadata": {},
   "outputs": [],
   "source": [
    "mejor_path = []\n",
    "salto_caballo((0,0),[])"
   ]
  },
  {
   "cell_type": "code",
   "execution_count": 140,
   "metadata": {},
   "outputs": [
    {
     "data": {
      "text/plain": [
       "8"
      ]
     },
     "execution_count": 140,
     "metadata": {},
     "output_type": "execute_result"
    }
   ],
   "source": [
    "len(mejor_path)"
   ]
  },
  {
   "cell_type": "code",
   "execution_count": 141,
   "metadata": {},
   "outputs": [
    {
     "data": {
      "text/plain": [
       "[(0, 0), (1, 2), (2, 0), (0, 1), (2, 2), (1, 0), (0, 2), (2, 1)]"
      ]
     },
     "execution_count": 141,
     "metadata": {},
     "output_type": "execute_result"
    }
   ],
   "source": [
    "mejor_path"
   ]
  },
  {
   "cell_type": "markdown",
   "metadata": {},
   "source": [
    "Los resultados son buenos sobre los casos de prueba que se presentan en SPOJ. Ahora crearé la entrada y salida."
   ]
  },
  {
   "cell_type": "code",
   "execution_count": 173,
   "metadata": {},
   "outputs": [
    {
     "name": "stdin",
     "output_type": "stream",
     "text": [
      " 3 0 3 0 3 0 3\n"
     ]
    },
    {
     "name": "stdout",
     "output_type": "stream",
     "text": [
      "1\n"
     ]
    },
    {
     "name": "stdin",
     "output_type": "stream",
     "text": [
      " 7 0 3 0 3 0 4 0 4 1 3 1 7 4 4\n"
     ]
    },
    {
     "name": "stdout",
     "output_type": "stream",
     "text": [
      "4\n"
     ]
    },
    {
     "name": "stdin",
     "output_type": "stream",
     "text": [
      " 2 0 1 2 1\n"
     ]
    },
    {
     "name": "stdout",
     "output_type": "stream",
     "text": [
      "0\n"
     ]
    },
    {
     "name": "stdin",
     "output_type": "stream",
     "text": [
      " 7 0 3 0 3 0 4 0 4 1 3 1 7 4 4\n"
     ]
    },
    {
     "name": "stdout",
     "output_type": "stream",
     "text": [
      "4\n"
     ]
    },
    {
     "name": "stdin",
     "output_type": "stream",
     "text": [
      " 7 0 3 0 3 0 4 0 4 1 3 1 7 4 4\n"
     ]
    },
    {
     "name": "stdout",
     "output_type": "stream",
     "text": [
      "4\n"
     ]
    },
    {
     "name": "stdin",
     "output_type": "stream",
     "text": [
      " 2 0 1 2 1\n"
     ]
    },
    {
     "name": "stdout",
     "output_type": "stream",
     "text": [
      "0\n"
     ]
    },
    {
     "name": "stdin",
     "output_type": "stream",
     "text": [
      " 3 0 3 0 3 0 3\n"
     ]
    },
    {
     "name": "stdout",
     "output_type": "stream",
     "text": [
      "1\n"
     ]
    },
    {
     "name": "stdin",
     "output_type": "stream",
     "text": [
      " 0\n"
     ]
    }
   ],
   "source": [
    "caso_prueba = input().split()\n",
    "filas = int(caso_prueba[0])\n",
    "chess_board = []\n",
    "\n",
    "row = [0]*10\n",
    "\n",
    "for _ in range(10):\n",
    "    chess_board.append(row.copy())\n",
    "\n",
    "while(filas !=0 ):\n",
    "\n",
    "    \n",
    "    #con esto sabré cuántos cuadros hay disponibles\n",
    "    cuadros_disponibles = 0\n",
    "    \n",
    "    fila_actual = 0\n",
    "    \n",
    "    #modifica el chessboard para establecer los cuadros disponibles\n",
    "    for i in range(1,filas*2,2):\n",
    "\n",
    "        inicio = int(caso_prueba[i])\n",
    "        cuadros = int(caso_prueba[i+1])\n",
    "        cuadros_disponibles += cuadros\n",
    "        chess_board[fila_actual][inicio:inicio+cuadros] = [1] * len(chess_board[0][inicio:inicio+cuadros])       \n",
    "        fila_actual+=1\n",
    "        \n",
    "    mejor_path = []\n",
    "    salto_caballo((0,0),[])\n",
    "    print(cuadros_disponibles-len(mejor_path))\n",
    "    \n",
    "    for i in range(10):\n",
    "        chess_board[i][:] = [0]*len(chess_board[0][:])\n",
    "        \n",
    "    caso_prueba = input().split()\n",
    "    filas = int(caso_prueba[0])"
   ]
  },
  {
   "cell_type": "code",
   "execution_count": 164,
   "metadata": {},
   "outputs": [
    {
     "data": {
      "text/plain": [
       "24"
      ]
     },
     "execution_count": 164,
     "metadata": {},
     "output_type": "execute_result"
    }
   ],
   "source": [
    "len(mejor_path)"
   ]
  },
  {
   "cell_type": "markdown",
   "metadata": {},
   "source": [
    "El algoritmo funciona aparentemente. Lo probaré en el juez."
   ]
  },
  {
   "cell_type": "markdown",
   "metadata": {},
   "source": [
    "El algoritmo arrojó tiempo límite excedido. Ya pensé en la causa y lo explicaré en otro notebook."
   ]
  },
  {
   "cell_type": "code",
   "execution_count": null,
   "metadata": {},
   "outputs": [],
   "source": []
  }
 ],
 "metadata": {
  "kernelspec": {
   "display_name": "Python 3",
   "language": "python",
   "name": "python3"
  },
  "language_info": {
   "codemirror_mode": {
    "name": "ipython",
    "version": 3
   },
   "file_extension": ".py",
   "mimetype": "text/x-python",
   "name": "python",
   "nbconvert_exporter": "python",
   "pygments_lexer": "ipython3",
   "version": "3.8.3"
  }
 },
 "nbformat": 4,
 "nbformat_minor": 4
}
