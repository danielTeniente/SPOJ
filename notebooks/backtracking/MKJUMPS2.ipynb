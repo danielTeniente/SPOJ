{
 "cells": [
  {
   "cell_type": "markdown",
   "metadata": {},
   "source": [
    "El algoritmo anterior tiene el problema de que algunos caminos del caballo se solapan. Entonces, se recorre el mismo camino varias veces y eso no es óptimo. En el siguiente ejemplo pueden ver que el camino termina en el mismo lugar con el mismo número de movimientos, pero la diferencia de un salto hace que todo tenga que volver a calcularse."
   ]
  },
  {
   "cell_type": "markdown",
   "metadata": {},
   "source": [
    "$\\begin{bmatrix}\n",
    "x        & x    & x      & x  & x     & x\\\\\n",
    "x        & x    & salto  & x  & x     & x\\\\\n",
    "caballo  & x    & x      & x  & salto & x\\\\\n",
    "x        & x    & x      & x  & x     & x\\\\\n",
    "x        & x    & x      & x  & x     & salto\n",
    "\\end{bmatrix}$"
   ]
  },
  {
   "cell_type": "markdown",
   "metadata": {},
   "source": [
    "$\\begin{bmatrix}\n",
    "x        & x    & x      & x  & x     & x\\\\\n",
    "x        & x    & x      & x  & x     & x\\\\\n",
    "caballo  & x    & x      & x  & salto & x\\\\\n",
    "x        & x    & salto  & x  & x     & x\\\\\n",
    "x        & x    & x      & x  & x     & salto\n",
    "\\end{bmatrix}$"
   ]
  },
  {
   "cell_type": "markdown",
   "metadata": {},
   "source": [
    "No voy a mentir, superar ese solapamiento se ve como una tarea demasiado grande. Me cuesta trabajo el simple hecho de concebir ese solapamiento."
   ]
  },
  {
   "cell_type": "markdown",
   "metadata": {},
   "source": [
    "3 0 3 0 3 0 3  \n",
    "\n",
    "[(0, 0), (1, 2), (2, 0), (0, 1), (2, 2), (1, 0), (0, 2), (2, 1)]  \n",
    "\n",
    "[(0, 0), (2, 1), (0, 2), (1, 0), (2, 2), (0, 1), (2, 0), (1, 2)]"
   ]
  },
  {
   "cell_type": "markdown",
   "metadata": {},
   "source": [
    "Arriba están los paths generados por el algoritmo en un `chess_board` de $ 3\\times{3}$. Los caminos son un espejo. Esto también debee poder evitarse."
   ]
  },
  {
   "cell_type": "markdown",
   "metadata": {},
   "source": [
    "## Búsqueda por internet\n",
    "Acabo de revisar algunos algoritmos en C++ y al parecer son el mismo, excepto por una pequeñas cosas. Voy a probar este nuevo puento de vista."
   ]
  },
  {
   "cell_type": "markdown",
   "metadata": {},
   "source": [
    "El primer cambio es que no hay que almacenar el mejor path, si no la cuenta.  \n",
    "El control de las casillas visitadas se debe llevar a cabo con la matriz y no con un path a parte."
   ]
  },
  {
   "cell_type": "code",
   "execution_count": 17,
   "metadata": {},
   "outputs": [
    {
     "name": "stdin",
     "output_type": "stream",
     "text": [
      " 2 0 1 2 1\n"
     ]
    },
    {
     "name": "stdout",
     "output_type": "stream",
     "text": [
      "Case 1, 0 squares can not be reached.\n"
     ]
    },
    {
     "name": "stdin",
     "output_type": "stream",
     "text": [
      " 7 0 3 0 3 0 4 0 4 1 3 1 7 4 4\n"
     ]
    },
    {
     "name": "stdout",
     "output_type": "stream",
     "text": [
      "Case 2, 4 squares can not be reached.\n"
     ]
    },
    {
     "name": "stdin",
     "output_type": "stream",
     "text": [
      " 3 0 10 0 10 0 10\n"
     ]
    },
    {
     "name": "stdout",
     "output_type": "stream",
     "text": [
      "Case 3, 0 squares can not be reached.\n"
     ]
    },
    {
     "name": "stdin",
     "output_type": "stream",
     "text": [
      " 0\n"
     ]
    }
   ],
   "source": [
    "#global\n",
    "acciones = [(-2,-1), (-2,1), (-1,-2), (-1,2), (1,-2), (1,2), (2,-1), (2,1)]\n",
    "\n",
    "def salto_caballo(idx_actual, cuenta_actual):    \n",
    "    global acciones\n",
    "    global chess_board\n",
    "    global mejor_path\n",
    "    \n",
    "    \n",
    "    #este índice ya no debe estar disponible\n",
    "    chess_board[idx_actual[0]][idx_actual[1]] = 0\n",
    "    \n",
    "    #bandera que controla que haya una jugada siguiente\n",
    "    bandera_siguiente = False\n",
    "    for accion in acciones:\n",
    "        new_idx = (idx_actual[0]+accion[0],idx_actual[1]+accion[1])\n",
    "        \n",
    "        #el nuevo índice no fue usado con anterioridad\n",
    "        #el nuevo índice es parte del tablero\n",
    "        if(new_idx[0]<10 and new_idx[1]<10 and new_idx[0]>=0 and new_idx[1]>=0):\n",
    "            if(chess_board[new_idx[0]][new_idx[1]]!= 0):\n",
    "                bandera_siguiente = True\n",
    "                salto_caballo(new_idx, cuenta_actual+1)\n",
    "                #si ya ha retornado, entonces se debe deshacer la jugada\n",
    "                \n",
    "    #si no hubo un movimiento siguiente, el path se terminó\n",
    "    if(not bandera_siguiente):\n",
    "        if(cuenta_actual>mejor_path):\n",
    "            mejor_path = cuenta_actual\n",
    "            \n",
    "    global cuadros_disponibles\n",
    "    if(mejor_path == cuadros_disponibles):\n",
    "        return\n",
    "    \n",
    "    chess_board[idx_actual[0]][idx_actual[1]] = 1\n",
    "\n",
    "        \n",
    "caso_prueba = input().split()\n",
    "filas = int(caso_prueba[0])\n",
    "chess_board = []\n",
    "\n",
    "row = [0]*10\n",
    "\n",
    "for _ in range(10):\n",
    "    chess_board.append(row.copy())\n",
    "\n",
    "case = 0\n",
    "\n",
    "while(filas !=0 ):\n",
    "    case+=1\n",
    "    \n",
    "    #con esto sabré cuántos cuadros hay disponibles\n",
    "    cuadros_disponibles = 0\n",
    "    \n",
    "    fila_actual = 0\n",
    "    \n",
    "    #modifica el chessboard para establecer los cuadros disponibles\n",
    "    for i in range(1,filas*2,2):\n",
    "        inicio = int(caso_prueba[i])\n",
    "        cuadros = int(caso_prueba[i+1])\n",
    "        cuadros_disponibles += cuadros\n",
    "        chess_board[fila_actual][inicio:inicio+cuadros] = [1] * len(chess_board[0][inicio:inicio+cuadros])       \n",
    "        fila_actual+=1\n",
    "        \n",
    "    mejor_path = 0\n",
    "    #el primer cuadro ya está ocupado\n",
    "    salto_caballo((0,0),1)\n",
    "    cuadros_faltantes = cuadros_disponibles-mejor_path\n",
    "    if(cuadros_faltantes==1):\n",
    "        print('Case {}, {} square can not be reached.'.format(case,cuadros_faltantes))\n",
    "    else:\n",
    "        print('Case {}, {} squares can not be reached.'.format(case,cuadros_faltantes))\n",
    "\n",
    "    \n",
    "    for i in range(10):\n",
    "        chess_board[i][:] = [0]*len(chess_board[0][:])\n",
    "        \n",
    "    caso_prueba = input().split()\n",
    "    filas = int(caso_prueba[0])"
   ]
  },
  {
   "cell_type": "markdown",
   "metadata": {},
   "source": [
    "Exploré soluciones en internet, pero el algoritmo es esencialmente el mismo. Todos deberían dar timepo límite excedido. Así que parece que este problema resultó ser todo un duelo. Más adelante en mi entrenamiento volveré a él con nuevas ideas. Por ahora, tengo una solución no eficiente."
   ]
  },
  {
   "cell_type": "code",
   "execution_count": null,
   "metadata": {},
   "outputs": [],
   "source": []
  }
 ],
 "metadata": {
  "kernelspec": {
   "display_name": "Python 3",
   "language": "python",
   "name": "python3"
  },
  "language_info": {
   "codemirror_mode": {
    "name": "ipython",
    "version": 3
   },
   "file_extension": ".py",
   "mimetype": "text/x-python",
   "name": "python",
   "nbconvert_exporter": "python",
   "pygments_lexer": "ipython3",
   "version": "3.8.3"
  }
 },
 "nbformat": 4,
 "nbformat_minor": 4
}
