{
 "cells": [
  {
   "cell_type": "markdown",
   "metadata": {},
   "source": [
    "# Otro ALLIZZWELL"
   ]
  },
  {
   "cell_type": "markdown",
   "metadata": {},
   "source": [
    "Este [problema de ABCPATH](https://www.spoj.com/problems/ABCPATH/) es muy similar al problema de [ALLIZZWELL](https://github.com/danielTeniente/SPOJ/blob/master/notebooks/ALLIZWEL.ipynb), así que espero resolverlo con relativa facilidad."
   ]
  },
  {
   "cell_type": "markdown",
   "metadata": {},
   "source": [
    "Lo primero es declarar las acciones posibles."
   ]
  },
  {
   "cell_type": "code",
   "execution_count": 1,
   "metadata": {},
   "outputs": [],
   "source": [
    "#global\n",
    "vecinos = [(-1,-1),(-1,0),(-1,1),(0,-1),(0,1),(1,-1),(1,0),(1,1)]"
   ]
  },
  {
   "cell_type": "markdown",
   "metadata": {},
   "source": [
    "También declaro la frase que quiero seguir, junto a un índice de control"
   ]
  },
  {
   "cell_type": "code",
   "execution_count": 2,
   "metadata": {},
   "outputs": [],
   "source": [
    "#global\n",
    "str_buscado = ['A', 'B', 'C', 'D', 'E', 'F', 'G', 'H',\n",
    "              'I', 'J', 'K', 'L', 'M', 'N', 'O', 'P', 'Q', 'R', \n",
    "              'S', 'T', 'U', 'V', 'W', 'X', 'Y', 'Z' ]\n",
    "\n",
    "\n",
    "#este idx es simbólico pues pondré cero dentro de la función siguiente\n",
    "idx_abc = 0"
   ]
  },
  {
   "cell_type": "markdown",
   "metadata": {},
   "source": [
    "La función debe recorrer una matriz, por cada casilla debe encontrar la `'A'`."
   ]
  },
  {
   "cell_type": "code",
   "execution_count": 45,
   "metadata": {},
   "outputs": [],
   "source": [
    "def encontrar_inicio(inicio,matrix):\n",
    "    #recorro la matriz para buscar la A\n",
    "    for i in range(len(matrix)):\n",
    "        for j in range(len(matrix[i])):\n",
    "            if(matrix[i][j]==inicio):\n",
    "                #veo si a partir de esa letra surge el string buscado\n",
    "                encontrar_str(matrix,(i,j),1,1)"
   ]
  },
  {
   "cell_type": "markdown",
   "metadata": {},
   "source": [
    "Ahora, tomo la función de encontrar el string que quiero.  \n",
    "La mayor modificación que debo hacer es que ahora busco el path más largo, ya no busco la frase entera."
   ]
  },
  {
   "cell_type": "code",
   "execution_count": 51,
   "metadata": {},
   "outputs": [],
   "source": [
    "max_count = 0\n",
    "\n",
    "def encontrar_str(matrix,idx_actual,idx_str,counter):\n",
    "    global str_buscado\n",
    "    global vecinos\n",
    "    global max_count\n",
    "    \n",
    "    x_max = len(matrix[0])\n",
    "    y_max = len(matrix)\n",
    "\n",
    "    #Llegamos al path más largo\n",
    "    if(str_buscado[idx_str-1] == str_buscado[-1]):\n",
    "        max_count = counter\n",
    "    \n",
    "    else:\n",
    "        #bandera de fin de path\n",
    "        fin_path = True\n",
    "        \n",
    "        #el indice debe estar dentro del rango\n",
    "        for vecino in vecinos:\n",
    "            current_counter = 0\n",
    "            new_idx = (idx_actual[0]+vecino[0],idx_actual[1]+vecino[1]) \n",
    "            if(new_idx[0]>=0 and new_idx[1]>=0 and\n",
    "              new_idx[0]<y_max and new_idx[1]<x_max):\n",
    "                next_char = matrix[new_idx[0]][new_idx[1]]\n",
    "                #si el nuevo char es el que estoy buscando\n",
    "                if(next_char == str_buscado[idx_str]):\n",
    "                    fin_path=False\n",
    "                    encontrar_str(matrix,new_idx,idx_str+1,counter+1)\n",
    "                    \n",
    "                    \n",
    "        if(fin_path):\n",
    "            if(counter>max_count):\n",
    "                max_count = counter\n",
    "        \n",
    "                    \n",
    "                    \n",
    "            \n",
    "            "
   ]
  },
  {
   "cell_type": "code",
   "execution_count": 52,
   "metadata": {},
   "outputs": [],
   "source": [
    "matrix = []\n",
    "\n",
    "matrix.append(list('ABE'))\n",
    "matrix.append(list('CFG'))\n",
    "matrix.append(list('BDH'))\n",
    "matrix.append(list('ABC'))"
   ]
  },
  {
   "cell_type": "code",
   "execution_count": 53,
   "metadata": {},
   "outputs": [
    {
     "data": {
      "text/plain": [
       "[['A', 'B', 'E'], ['C', 'F', 'G'], ['B', 'D', 'H'], ['A', 'B', 'C']]"
      ]
     },
     "execution_count": 53,
     "metadata": {},
     "output_type": "execute_result"
    }
   ],
   "source": [
    "matrix"
   ]
  },
  {
   "cell_type": "code",
   "execution_count": 54,
   "metadata": {},
   "outputs": [],
   "source": [
    "encontrar_inicio('A',matrix)"
   ]
  },
  {
   "cell_type": "code",
   "execution_count": 55,
   "metadata": {},
   "outputs": [
    {
     "data": {
      "text/plain": [
       "4"
      ]
     },
     "execution_count": 55,
     "metadata": {},
     "output_type": "execute_result"
    }
   ],
   "source": [
    "max_count"
   ]
  },
  {
   "cell_type": "code",
   "execution_count": 56,
   "metadata": {},
   "outputs": [
    {
     "data": {
      "text/plain": [
       "3"
      ]
     },
     "execution_count": 56,
     "metadata": {},
     "output_type": "execute_result"
    }
   ],
   "source": [
    "matrix = []\n",
    "max_count=0\n",
    "matrix.append(list('ABC'))\n",
    "matrix.append(list('ABC'))\n",
    "matrix.append(list('ABC'))\n",
    "matrix.append(list('ABC'))\n",
    "encontrar_inicio('A',matrix)\n",
    "max_count"
   ]
  },
  {
   "cell_type": "markdown",
   "metadata": {},
   "source": [
    "Ahora programaré la entrada y la salida."
   ]
  },
  {
   "cell_type": "code",
   "execution_count": 38,
   "metadata": {},
   "outputs": [
    {
     "name": "stdin",
     "output_type": "stream",
     "text": [
      " 4 3\n",
      " ABC\n",
      " ABC\n",
      " ABC\n",
      " ABC\n"
     ]
    },
    {
     "name": "stdout",
     "output_type": "stream",
     "text": [
      "Case 1: 3\n"
     ]
    },
    {
     "name": "stdin",
     "output_type": "stream",
     "text": [
      " 4 3\n",
      " ABE\n",
      " CFG\n",
      " BDH\n",
      " ABC\n"
     ]
    },
    {
     "name": "stdout",
     "output_type": "stream",
     "text": [
      "Case 2: 4\n"
     ]
    },
    {
     "name": "stdin",
     "output_type": "stream",
     "text": [
      " 0 0 \n"
     ]
    }
   ],
   "source": [
    "entrada = input().split()\n",
    "filas = int(entrada[0])\n",
    "col = int(entrada[1])\n",
    "case = 0\n",
    "\n",
    "while(filas !=0 and col !=0):\n",
    "    case +=1\n",
    "    matrix = []\n",
    "    max_count = 0\n",
    "    for _ in range(filas):\n",
    "        matrix.append(list(input()))\n",
    "        \n",
    "    encontrar_inicio('A',matrix)\n",
    "    \n",
    "    print('Case {}: {}'.format(case,max_count))\n",
    "    \n",
    "    \n",
    "    entrada = input().split()\n",
    "    filas = int(entrada[0])\n",
    "    col = int(entrada[1])    "
   ]
  },
  {
   "cell_type": "markdown",
   "metadata": {},
   "source": [
    "Aunque el algoritmo parecía funcionar bien, me dio varios errores. No sé si los corregí a lo largo del notebook, pero ahora pondré todo el código y explicaré los cambios principales en los comentarios. "
   ]
  },
  {
   "cell_type": "code",
   "execution_count": 5,
   "metadata": {},
   "outputs": [
    {
     "name": "stdin",
     "output_type": "stream",
     "text": [
      " 4 10\n",
      " ABCDEFGHIJKLMNOPQRSTUVWXY\n",
      " ABCDEFGHIJKLMNOPQRSTUVWXY\n",
      " ABCDEFGHIJKLMNOPQRSTUVWXY\n",
      " ABCDEFGHIJKLMNOPQRSTUVWXY\n"
     ]
    },
    {
     "name": "stdout",
     "output_type": "stream",
     "text": [
      "Case 1: 25\n"
     ]
    },
    {
     "name": "stdin",
     "output_type": "stream",
     "text": [
      " 0 0\n"
     ]
    }
   ],
   "source": [
    "vecinos = [(-1,-1),(-1,0),(-1,1),(0,-1),(0,1),(1,-1),(1,0),(1,1)]\n",
    " \n",
    "#global\n",
    "str_buscado = ['A', 'B', 'C', 'D', 'E', 'F', 'G', 'H',\n",
    "              'I', 'J', 'K', 'L', 'M', 'N', 'O', 'P', 'Q', 'R', \n",
    "              'S', 'T', 'U', 'V', 'W', 'X', 'Y', 'Z' ]\n",
    " \n",
    "def encontrar_inicio(inicio,matrix):\n",
    "    #recorro la matriz para buscar la A\n",
    "    for i in range(len(matrix)):\n",
    "        for j in range(len(matrix[i])):\n",
    "            if(matrix[i][j]==inicio):\n",
    "                #veo si a partir de esa letra surge el string buscado\n",
    "                encontrar_str(matrix,(i,j),0,1)\n",
    " \n",
    "def encontrar_str(matrix,idx_actual,idx_str,counter):\n",
    "    global str_buscado\n",
    "    global vecinos\n",
    "    global max_count\n",
    "    global idx_recorridos\n",
    "    \n",
    "\n",
    "    x_max = len(matrix[0])\n",
    "    #aquí había un error al extraer el máximo de filas\n",
    "    y_max = len(matrix)\n",
    "    \n",
    "    #tuve que agregar un path de indices ya cruzados,\n",
    "    #esto debido a que el algoritmo recorría los mismos caminos\n",
    "    #varias veces gastando cómputo\n",
    "    \n",
    "    #La condición de max_count nos dice que si ya encontramos\n",
    "    #todas las letras del abecedario no hace falta seguir buscando\n",
    "    \n",
    "    if(max_count!=len(str_buscado) and idx_actual not in idx_recorridos):\n",
    "        \n",
    "        idx_recorridos.append(idx_actual)\n",
    "        \n",
    "        #Llegamos al path más largo\n",
    "        if(matrix[idx_actual[0]][idx_actual[1]] == str_buscado[-1]):\n",
    "            max_count = counter\n",
    "    \n",
    "        else:\n",
    "\n",
    "            #bandera de fin de path\n",
    "            fin_path = True\n",
    "    \n",
    "            for vecino in vecinos:\n",
    "                new_idx = (idx_actual[0]+vecino[0],idx_actual[1]+vecino[1]) \n",
    "                if(new_idx[0]>=0 and new_idx[1]>=0 and\n",
    "                new_idx[0]<y_max and new_idx[1]<x_max):\n",
    "                    next_char = matrix[new_idx[0]][new_idx[1]]\n",
    "                    #si el nuevo char es el que estoy buscando\n",
    "                    if(next_char == str_buscado[idx_str+1]):\n",
    "                        fin_path=False\n",
    "                        encontrar_str(matrix,new_idx,idx_str+1,counter+1)\n",
    "    \n",
    "            #si la bandera nunca cambió significa que no hay vecinos válidpos\n",
    "            if(fin_path):\n",
    "                if(counter>max_count):\n",
    "                    max_count = counter\n",
    " \n",
    "entrada = input().split()\n",
    "filas = int(entrada[0])\n",
    "col = int(entrada[1])\n",
    "case = 0\n",
    " \n",
    "while(filas !=0 and col !=0):\n",
    "    case +=1\n",
    "    matrix = []\n",
    "    max_count = 0\n",
    "    idx_recorridos = []\n",
    "\n",
    "\n",
    "    for _ in range(filas):\n",
    "        matrix.append(list(input()))\n",
    " \n",
    "    encontrar_inicio('A',matrix)\n",
    " \n",
    "    print('Case {}: {}'.format(case,max_count))\n",
    " \n",
    " \n",
    "    entrada = input().split()\n",
    "    filas = int(entrada[0])\n",
    "    col = int(entrada[1])   "
   ]
  },
  {
   "cell_type": "markdown",
   "metadata": {},
   "source": [
    "La lección más importante de este ejercicio es que había que descartar los índices ya visitados. Esto debido a que el path sólo podía ir en la misma dirección a partir de ese punto."
   ]
  },
  {
   "cell_type": "markdown",
   "metadata": {},
   "source": [
    "Path 1  \n",
    "$\\begin{bmatrix}\n",
    "(A) & (B)    & (C)     & (D)  & (F)     & (G)\\\\\n",
    "A & B    & C     & D  & F     & G\\\\\n",
    "A & B    & C     & D  & F     & G\\\\\n",
    "A & B    & C     & D  & F     & G\n",
    "\\end{bmatrix}$"
   ]
  },
  {
   "cell_type": "markdown",
   "metadata": {},
   "source": [
    "Path 2  \n",
    "$\\begin{bmatrix}\n",
    "A & (B)    & (C)     & (D)  & (F)     & (G)\\\\\n",
    "(A) & B    & C     & D  & F     & G\\\\\n",
    "A & B    & C     & D  & F     & G\\\\\n",
    "A & B    & C     & D  & F     & G\n",
    "\\end{bmatrix}$"
   ]
  },
  {
   "cell_type": "markdown",
   "metadata": {},
   "source": [
    "Path 3  \n",
    "$\\begin{bmatrix}\n",
    "A & B    & (C)     & (D)  & (F)     & (G)\\\\\n",
    "A & (B)    & C     & D  & F     & G\\\\\n",
    "(A) & B    & C     & D  & F     & G\\\\\n",
    "A & B    & C     & D  & F     & G\n",
    "\\end{bmatrix}$"
   ]
  },
  {
   "cell_type": "markdown",
   "metadata": {},
   "source": [
    "Los tres caminos terminan de la misma forma, por eso hay que descartar la `'B'` de la primera fila. Ir por ahí sólo puede terminar en la misma parte, no importa si la `'A'` es la primera o la tercera."
   ]
  },
  {
   "cell_type": "code",
   "execution_count": null,
   "metadata": {},
   "outputs": [],
   "source": []
  }
 ],
 "metadata": {
  "kernelspec": {
   "display_name": "Python 3",
   "language": "python",
   "name": "python3"
  },
  "language_info": {
   "codemirror_mode": {
    "name": "ipython",
    "version": 3
   },
   "file_extension": ".py",
   "mimetype": "text/x-python",
   "name": "python",
   "nbconvert_exporter": "python",
   "pygments_lexer": "ipython3",
   "version": "3.8.3"
  }
 },
 "nbformat": 4,
 "nbformat_minor": 4
}
