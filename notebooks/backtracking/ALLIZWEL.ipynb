{
 "cells": [
  {
   "cell_type": "markdown",
   "metadata": {},
   "source": [
    "Link del problema:  \n",
    "https://www.spoj.com/problems/ALLIZWEL/"
   ]
  },
  {
   "cell_type": "markdown",
   "metadata": {},
   "source": [
    "Almaceno la frase buscada para poder usarla de referencia más adelante."
   ]
  },
  {
   "cell_type": "code",
   "execution_count": 4,
   "metadata": {},
   "outputs": [],
   "source": [
    "str_buscado = 'ALLIZZWELL'"
   ]
  },
  {
   "cell_type": "markdown",
   "metadata": {},
   "source": [
    "Voy a usar un índice que me diga en qué caracter me encuentro en el string"
   ]
  },
  {
   "cell_type": "code",
   "execution_count": 5,
   "metadata": {},
   "outputs": [
    {
     "data": {
      "text/plain": [
       "'A'"
      ]
     },
     "execution_count": 5,
     "metadata": {},
     "output_type": "execute_result"
    }
   ],
   "source": [
    "idx_str = 0\n",
    "str_buscado[idx_str]"
   ]
  },
  {
   "cell_type": "markdown",
   "metadata": {},
   "source": [
    "Tengo un array de vecinos para poder iterar sobre los puntos que rodean a cada letra. Cada coordenada se escribe en (y,x) debidoo a que el primer índice controla las filas.  \n",
    "\n",
    "$\\begin{bmatrix}\n",
    "(-1,-1) & (-1,0) & (-1,+1)\\\\\n",
    "(0,-1) & 'A' & (0,+1)\\\\\n",
    "(+1,-1) & (+1,0) & (+1,+1)\n",
    "\\end{bmatrix}$"
   ]
  },
  {
   "cell_type": "code",
   "execution_count": 3,
   "metadata": {},
   "outputs": [],
   "source": [
    "vecinos = [(-1,-1),(-1,0),(-1,1),(0,-1),(0,1),(1,-1),(1,0),(1,1)]"
   ]
  },
  {
   "cell_type": "markdown",
   "metadata": {},
   "source": [
    "Finalmente, la función debe buscar, en una matriz dada, la letra 'A', sin esa letra es imposible armar la frase.  \n"
   ]
  },
  {
   "cell_type": "code",
   "execution_count": 3,
   "metadata": {},
   "outputs": [],
   "source": [
    "def encontrar_inicio(inicio,matrix):\n",
    "    #recorro la matriz para buscar la A\n",
    "    for i in range(len(matrix)):\n",
    "        for j in range(len(matrix[i])):\n",
    "            if(matrix[i][j]==inicio):\n",
    "                #veo si a partir de esa letra surge el string buscado\n",
    "                if(encontrar_str(matrix,(i,j),0)):\n",
    "                    return True\n",
    "    return False"
   ]
  },
  {
   "cell_type": "markdown",
   "metadata": {},
   "source": [
    "Manejaré un índice actual para ubicarme dentro de la matriz."
   ]
  },
  {
   "cell_type": "markdown",
   "metadata": {},
   "source": [
    "Luego, a partir de esta letra, veré si los vecinos siguen la secuencia de la frase buscada."
   ]
  },
  {
   "cell_type": "code",
   "execution_count": 69,
   "metadata": {},
   "outputs": [],
   "source": [
    "def encontrar_str(matrix, idx_actual, idx_str):\n",
    "    \n",
    "    global str_buscado\n",
    "    \n",
    "    #si el indice del string supera la longitud, se ha encontrado la respuesta \n",
    "    if(idx_str == len(str_buscado)):\n",
    "        return True\n",
    "    \n",
    "    else:\n",
    "        #debemos buscar si los vecinos de esta letra siguen la frase\n",
    "        try:\n",
    "\n",
    "            if(idx_actual[0]<0 or idx_actual[1]<0):\n",
    "                raise NameError('Indice negativo')\n",
    "            letra_actual = matrix[idx_actual[0]][idx_actual[1]]\n",
    "\n",
    "            #comparo la letra de la matriz con la letra de la frase\n",
    "            if(letra_actual == str_buscado[idx_str]):\n",
    "                global vecinos\n",
    "                #itero sobre los vecinos para encontrar la respuesta\n",
    "                for vecino in vecinos:\n",
    "                    #el índice del vecino\n",
    "\n",
    "                    nuevo_idx = (idx_actual[0]+vecino[0],idx_actual[1]+vecino[1])\n",
    "\n",
    "                    #si la respuesta llegó se retorna True\n",
    "                    if(encontrar_str(matrix, nuevo_idx, idx_str+1)):\n",
    "                        return True\n",
    "                    #de lo contrario, sigue el siguiente vecino.\n",
    "        \n",
    "        except Exception as e:\n",
    "            #si no se puede extraer esta letra, se debe retornar falso\n",
    "            #el índice se ha salido de la matriz\n",
    "\n",
    "            return False\n",
    "        \n",
    "    return False"
   ]
  },
  {
   "cell_type": "code",
   "execution_count": 32,
   "metadata": {},
   "outputs": [],
   "source": [
    "matrix=[list('abcdMJHYaT'),\n",
    "        list('ALLIZZWELL')]"
   ]
  },
  {
   "cell_type": "code",
   "execution_count": 33,
   "metadata": {},
   "outputs": [
    {
     "data": {
      "text/plain": [
       "[['a', 'b', 'c', 'd', 'M', 'J', 'H', 'Y', 'a', 'T'],\n",
       " ['A', 'L', 'L', 'I', 'Z', 'Z', 'W', 'E', 'L', 'L']]"
      ]
     },
     "execution_count": 33,
     "metadata": {},
     "output_type": "execute_result"
    }
   ],
   "source": [
    "matrix"
   ]
  },
  {
   "cell_type": "code",
   "execution_count": 43,
   "metadata": {},
   "outputs": [
    {
     "data": {
      "text/plain": [
       "True"
      ]
     },
     "execution_count": 43,
     "metadata": {},
     "output_type": "execute_result"
    }
   ],
   "source": [
    "encontrar_inicio('A',matrix)"
   ]
  },
  {
   "cell_type": "code",
   "execution_count": 44,
   "metadata": {},
   "outputs": [
    {
     "data": {
      "text/plain": [
       "True"
      ]
     },
     "execution_count": 44,
     "metadata": {},
     "output_type": "execute_result"
    }
   ],
   "source": [
    "matrix=[list('abcdMJHYaT'),\n",
    "        list('miojuipeLl'),\n",
    "        list('ALLIZZWEIL')]\n",
    "encontrar_inicio('A',matrix)"
   ]
  },
  {
   "cell_type": "code",
   "execution_count": 45,
   "metadata": {},
   "outputs": [
    {
     "data": {
      "text/plain": [
       "True"
      ]
     },
     "execution_count": 45,
     "metadata": {},
     "output_type": "execute_result"
    }
   ],
   "source": [
    "matrix=[list('AWE.QX'),\n",
    "        list('LLL.EO'),\n",
    "        list('IZZWLL')]\n",
    "encontrar_inicio('A',matrix)"
   ]
  },
  {
   "cell_type": "code",
   "execution_count": 48,
   "metadata": {},
   "outputs": [
    {
     "data": {
      "text/plain": [
       "True"
      ]
     },
     "execution_count": 48,
     "metadata": {},
     "output_type": "execute_result"
    }
   ],
   "source": [
    "matrix=[list('LLEWZZILLA')]\n",
    "encontrar_inicio('A',matrix)"
   ]
  },
  {
   "cell_type": "code",
   "execution_count": 47,
   "metadata": {},
   "outputs": [
    {
     "data": {
      "text/plain": [
       "False"
      ]
     },
     "execution_count": 47,
     "metadata": {},
     "output_type": "execute_result"
    }
   ],
   "source": [
    "matrix=[list('A.L.Z.E..'),\n",
    "        list('.L.I.W.L.')]\n",
    "encontrar_inicio('A',matrix)"
   ]
  },
  {
   "cell_type": "markdown",
   "metadata": {},
   "source": [
    "Este caso es curioso pues me dio un error muy extraño. Ocurre que cuando llega a la letra E, se conecta a LL que está debajo de la A. Pero esa LL ya está usada para escribir ALLIZZWE, mi algoritmo no tomaba en cuenta cuando las letras ya han sido usadas."
   ]
  },
  {
   "cell_type": "code",
   "execution_count": 71,
   "metadata": {},
   "outputs": [
    {
     "data": {
      "text/plain": [
       "True"
      ]
     },
     "execution_count": 71,
     "metadata": {},
     "output_type": "execute_result"
    }
   ],
   "source": [
    "matrix=[list('AEL'),\n",
    "        list('LWZ'),\n",
    "        list('LIZ')]\n",
    "encontrar_inicio('A',matrix)"
   ]
  },
  {
   "cell_type": "markdown",
   "metadata": {},
   "source": [
    "Decidí crear otro array global donde voy a almacenar el path de la respuesta para lograr evitar ese error."
   ]
  },
  {
   "cell_type": "code",
   "execution_count": 109,
   "metadata": {},
   "outputs": [],
   "source": [
    "path = []"
   ]
  },
  {
   "cell_type": "code",
   "execution_count": 2,
   "metadata": {},
   "outputs": [],
   "source": [
    "def encontrar_str(matrix, idx_actual, idx_str):\n",
    "    \n",
    "    global str_buscado\n",
    "    global path\n",
    "    \n",
    "    #si el indice del string supera la longitud, se ha encontrado la respuesta \n",
    "    if(idx_str == len(str_buscado)):\n",
    "        return True\n",
    "    \n",
    "    else:\n",
    "        #debemos buscar si los vecinos de esta letra siguen la frase\n",
    "        try:\n",
    "\n",
    "            if(idx_actual[0]<0 or idx_actual[1]<0):\n",
    "                raise NameError('Indice negativo')\n",
    "                \n",
    "            if(idx_actual in path):\n",
    "                raise NameError('Indice repetido')\n",
    "            \n",
    "            letra_actual = matrix[idx_actual[0]][idx_actual[1]]\n",
    "\n",
    "            #comparo la letra de la matriz con la letra de la frase\n",
    "            if(letra_actual == str_buscado[idx_str]):\n",
    "                path.append(idx_actual)\n",
    "                global vecinos\n",
    "                #itero sobre los vecinos para encontrar la respuesta\n",
    "                for vecino in vecinos:\n",
    "                    #el índice del vecino\n",
    "\n",
    "                    nuevo_idx = (idx_actual[0]+vecino[0],idx_actual[1]+vecino[1])\n",
    "\n",
    "                    #si la respuesta llegó se retorna True\n",
    "                    if(encontrar_str(matrix, nuevo_idx, idx_str+1)):\n",
    "                        return True\n",
    "                        \n",
    "                    #de lo contrario, sigue el siguiente vecino.\n",
    "            #si se probaron todos los vecinos y no retorna True\n",
    "            #esta letra no es parte del path ganador\n",
    "                path.pop(-1)\n",
    "\n",
    "        except Exception as e:\n",
    "            #si no se puede extraer esta letra, se debe retornar falso\n",
    "            #el índice se ha salido de la matriz\n",
    "\n",
    "            return False\n",
    "        \n",
    "    return False"
   ]
  },
  {
   "cell_type": "code",
   "execution_count": 113,
   "metadata": {},
   "outputs": [
    {
     "data": {
      "text/plain": [
       "False"
      ]
     },
     "execution_count": 113,
     "metadata": {},
     "output_type": "execute_result"
    }
   ],
   "source": [
    "path = []\n",
    "matrix=[list('AEL'),\n",
    "        list('LWZ'),\n",
    "        list('LIZ')]\n",
    "encontrar_inicio('A',matrix)"
   ]
  },
  {
   "cell_type": "code",
   "execution_count": 116,
   "metadata": {},
   "outputs": [
    {
     "data": {
      "text/plain": [
       "True"
      ]
     },
     "execution_count": 116,
     "metadata": {},
     "output_type": "execute_result"
    }
   ],
   "source": [
    "path = []\n",
    "matrix=[list('AWE.QX'),\n",
    "        list('LLL.EO'),\n",
    "        list('IZZWLL')]\n",
    "encontrar_inicio('A',matrix)"
   ]
  },
  {
   "cell_type": "markdown",
   "metadata": {},
   "source": [
    "Ahora podemos revisar el path que contiene la frase y veremos que todo está bajo control."
   ]
  },
  {
   "cell_type": "code",
   "execution_count": 118,
   "metadata": {},
   "outputs": [
    {
     "data": {
      "text/plain": [
       "[(0, 0),\n",
       " (1, 0),\n",
       " (1, 1),\n",
       " (2, 0),\n",
       " (2, 1),\n",
       " (2, 2),\n",
       " (2, 3),\n",
       " (1, 4),\n",
       " (2, 4),\n",
       " (2, 5)]"
      ]
     },
     "execution_count": 118,
     "metadata": {},
     "output_type": "execute_result"
    }
   ],
   "source": [
    "path"
   ]
  },
  {
   "cell_type": "markdown",
   "metadata": {},
   "source": [
    "El algoritmo ha sido un éxito. Ahora espero que su complejidad no sea tanta, voy a estandarizar la entrada y la salida y lo subiré al juez."
   ]
  },
  {
   "cell_type": "code",
   "execution_count": 5,
   "metadata": {},
   "outputs": [
    {
     "name": "stdin",
     "output_type": "stream",
     "text": [
      " 5\n",
      " 3 6\n",
      " AWE.QX\n",
      " LLL.EO\n",
      " IZZWLL\n"
     ]
    },
    {
     "name": "stdout",
     "output_type": "stream",
     "text": [
      "YES\n"
     ]
    },
    {
     "name": "stdin",
     "output_type": "stream",
     "text": [
      " \n",
      " 1 10\n",
      " ALLIZZWELL\n"
     ]
    },
    {
     "name": "stdout",
     "output_type": "stream",
     "text": [
      "YES\n"
     ]
    },
    {
     "name": "stdin",
     "output_type": "stream",
     "text": [
      " \n",
      " 2 9\n",
      " A.L.Z.E..\n",
      " .L.I.W.L.\n"
     ]
    },
    {
     "name": "stdout",
     "output_type": "stream",
     "text": [
      "NO\n"
     ]
    },
    {
     "name": "stdin",
     "output_type": "stream",
     "text": [
      " \n",
      " 3 3\n",
      " AEL\n",
      " LWZ\n",
      " LIZ\n"
     ]
    },
    {
     "name": "stdout",
     "output_type": "stream",
     "text": [
      "NO\n"
     ]
    },
    {
     "name": "stdin",
     "output_type": "stream",
     "text": [
      " \n",
      " 1 10\n",
      " LLEWZZILLA\n"
     ]
    },
    {
     "name": "stdout",
     "output_type": "stream",
     "text": [
      "YES\n"
     ]
    },
    {
     "name": "stdin",
     "output_type": "stream",
     "text": [
      " \n"
     ]
    }
   ],
   "source": [
    "#constantes globales\n",
    "str_buscado = 'ALLIZZWELL'\n",
    "vecinos = [(-1,-1),(-1,0),(-1,1),(0,-1),(0,1),(1,-1),(1,0),(1,1)]\n",
    "\n",
    "\n",
    "T = int(input())\n",
    "for i in range(T):\n",
    "    filas,columnas = input().split()\n",
    "    filas = int(filas)\n",
    "    matrix = []\n",
    "    path = []\n",
    "    for j in range(filas):\n",
    "        matrix.append(list(input()))\n",
    "        \n",
    "    if(encontrar_inicio('A',matrix)):\n",
    "        print('YES')\n",
    "    else:\n",
    "        print('NO')\n",
    "    \n",
    "    input()"
   ]
  },
  {
   "cell_type": "markdown",
   "metadata": {},
   "source": [
    "En teoría, el algoritmo está terminado, voy a probarlo en el juez..."
   ]
  },
  {
   "cell_type": "markdown",
   "metadata": {},
   "source": [
    "El algoritmo ha sido aceptado, una victoria más."
   ]
  },
  {
   "cell_type": "code",
   "execution_count": null,
   "metadata": {},
   "outputs": [],
   "source": []
  }
 ],
 "metadata": {
  "kernelspec": {
   "display_name": "Python 3",
   "language": "python",
   "name": "python3"
  },
  "language_info": {
   "codemirror_mode": {
    "name": "ipython",
    "version": 3
   },
   "file_extension": ".py",
   "mimetype": "text/x-python",
   "name": "python",
   "nbconvert_exporter": "python",
   "pygments_lexer": "ipython3",
   "version": "3.8.3"
  }
 },
 "nbformat": 4,
 "nbformat_minor": 4
}
