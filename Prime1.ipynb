{
 "cells": [
  {
   "cell_type": "markdown",
   "metadata": {},
   "source": [
    "# La lucha contra los números primos"
   ]
  },
  {
   "cell_type": "markdown",
   "metadata": {},
   "source": [
    "Este es el problema Prime 1 de SPOJ."
   ]
  },
  {
   "cell_type": "markdown",
   "metadata": {},
   "source": [
    "El problema de encontrar números primos de forma eficiente ha sido uno de los más duros que cualquiera enfrenta cuando ingresa en el mundo de la programación competitiva. Un número primo es aquel que sólo es divisible para sí mismo y para uno. Uno no es un número primo debido a que sólo tiene un divisor. "
   ]
  },
  {
   "cell_type": "markdown",
   "metadata": {},
   "source": [
    "## Características"
   ]
  },
  {
   "cell_type": "markdown",
   "metadata": {},
   "source": [
    "El problema de hoy consiste en encontrar todos los números primos que existen entre un rango de números. Presenta las siguientes características:\n",
    "1. El límite de tiempo de ejecución para python es de 6 segundos.\n",
    "2. Los números con los que trabajaremos van desde 1 hasta 1000000000.\n",
    "3. El rango tendrá un máximo de 100 000 números. Es decir que si el número inicial es uno, el máximo será 100 001. Si el número de inicio es 100 000 el máximo será 200 000. Esto es importante porque definirá la complejidad de nuestro algoritmo. Nunca podremos tener un rango que vaya de 1 a 1000000000.\n",
    "4. La respuesta debe imprimirse un número por línea seguido de un espacio en blanco por cada caso terminado.\n"
   ]
  },
  {
   "cell_type": "markdown",
   "metadata": {},
   "source": [
    "## Input - Output"
   ]
  },
  {
   "cell_type": "markdown",
   "metadata": {},
   "source": [
    "Ejemplo de entrada y salida"
   ]
  },
  {
   "cell_type": "markdown",
   "metadata": {},
   "source": [
    "Input:  \n",
    "2  \n",
    "1 10  \n",
    "3 5  "
   ]
  },
  {
   "cell_type": "markdown",
   "metadata": {},
   "source": [
    "Output:\n",
    "2  \n",
    "3  \n",
    "5  \n",
    "7  \n",
    "  \n",
    "3  \n",
    "5  "
   ]
  },
  {
   "cell_type": "markdown",
   "metadata": {},
   "source": [
    "## Solución"
   ]
  },
  {
   "cell_type": "markdown",
   "metadata": {},
   "source": [
    "Existen múltiples formas de resolver este problema, pero muy pocas pueden cumplir con el tiempo límite.  \n",
    "La solución más obvia y menos eficiente es tomar un número y dividirlo para todos los números que lo anteceden. Si no es divisible para ningún número que le antecede, excepto 1, entonces es un número primo. "
   ]
  },
  {
   "cell_type": "code",
   "execution_count": 19,
   "metadata": {},
   "outputs": [
    {
     "name": "stdout",
     "output_type": "stream",
     "text": [
      "16 no es un número primo\n"
     ]
    }
   ],
   "source": [
    "num = 16\n",
    "bandera = True\n",
    "for i in range(2,num):\n",
    "    if(num % i == 0):\n",
    "        bandera = False\n",
    "if(bandera):\n",
    "    print(num,\"es un número primo\")\n",
    "else:\n",
    "    print(num, \"no es un número primo\")"
   ]
  },
  {
   "cell_type": "code",
   "execution_count": 20,
   "metadata": {},
   "outputs": [
    {
     "name": "stdout",
     "output_type": "stream",
     "text": [
      "13 es un número primo\n"
     ]
    }
   ],
   "source": [
    "num = 13\n",
    "bandera = True\n",
    "for i in range(2,num):\n",
    "    if(num % i == 0):\n",
    "        bandera = False\n",
    "if(bandera):\n",
    "    print(num,\"es un número primo\")\n",
    "else:\n",
    "    print(num, \"no es un número primo\")"
   ]
  },
  {
   "cell_type": "markdown",
   "metadata": {},
   "source": [
    "Esta solución funciona si se trata de números pequeños, pero cuando hablamos de cantidades cercanas a 1000000000, utilizar un for hace que la complejidad supere el límite estándar de $10^{8}$.  "
   ]
  },
  {
   "cell_type": "markdown",
   "metadata": {},
   "source": [
    "La celda a continuación no está ejecutada porque no quiero que mi compu se congele para tratar de comprobar si un número tan grande es primo o no."
   ]
  },
  {
   "cell_type": "code",
   "execution_count": 22,
   "metadata": {},
   "outputs": [],
   "source": [
    "#num = 1000000000\n",
    "#bandera = True\n",
    "#for i in range(2,num):\n",
    "    #if(num % i == 0):\n",
    "        #bandera = False\n",
    "#if(bandera):\n",
    "    #print(num,\"es un número primo\")\n",
    "#else:\n",
    "    #print(num, \"no es un número primo\")"
   ]
  },
  {
   "cell_type": "markdown",
   "metadata": {},
   "source": [
    "Entonces, ¿existe una forma más eficiente de encontrar números primos? Casi siempre, en problemas que utilizan números tan grandes se debe recurrir a una fórmula matemática que reduzca la complejidad del algoritmo. Sin embargo, no existe fórmula que permita encontrar números primos.  \n",
    "Por lo tanto, lo que vamos a hacer es aplicar dos técnicas que nos ayuden a reducir el conjunto de números candidatos a ser números primos: la raíz cuadrada y la criba de eratóstenes."
   ]
  },
  {
   "cell_type": "markdown",
   "metadata": {},
   "source": [
    "### Raíz cuadrada"
   ]
  },
  {
   "cell_type": "markdown",
   "metadata": {},
   "source": [
    "Sacar la raíz cuadrada de un número candidato sirve para reducir el número de divisores posibles.  \n",
    "Existe un problema en COJ, que se encuentra fuera de servicio estos meses, el cual logré resolver gracias a la raíz cuadrada. "
   ]
  },
  {
   "cell_type": "code",
   "execution_count": 34,
   "metadata": {},
   "outputs": [
    {
     "name": "stdout",
     "output_type": "stream",
     "text": [
      "10000000 no es un número primo\n"
     ]
    }
   ],
   "source": [
    "num = 10000000\n",
    "bandera = True\n",
    "for i in range(2,num):\n",
    "    if(num % i == 0):\n",
    "        bandera = False\n",
    "if(bandera):\n",
    "    print(num,\"es un número primo\")\n",
    "else:\n",
    "    print(num, \"no es un número primo\")"
   ]
  },
  {
   "cell_type": "code",
   "execution_count": 36,
   "metadata": {},
   "outputs": [
    {
     "name": "stdout",
     "output_type": "stream",
     "text": [
      "10000000 no es un número primo\n"
     ]
    }
   ],
   "source": [
    "num = 10000000\n",
    "bandera = True\n",
    "limite = int(num**(1/2)+1)\n",
    "for i in range(2,limite):\n",
    "    if(num % i == 0):\n",
    "        bandera = False\n",
    "if(bandera):\n",
    "    print(num,\"es un número primo\")\n",
    "else:\n",
    "    print(num, \"no es un número primo\")"
   ]
  },
  {
   "cell_type": "markdown",
   "metadata": {},
   "source": [
    "Si ejecutan ambas celdas podrán notar que el primer algoritmo tarda mucho más en comprobar si se trata de un número primo o no. "
   ]
  },
  {
   "cell_type": "code",
   "execution_count": 38,
   "metadata": {},
   "outputs": [
    {
     "name": "stdout",
     "output_type": "stream",
     "text": [
      "3163\n"
     ]
    }
   ],
   "source": [
    "limite = int(num**(1/2)+1)\n",
    "print(limite)"
   ]
  },
  {
   "cell_type": "markdown",
   "metadata": {},
   "source": [
    "Lo único que hago es establecer un límite para los divisores posibles. Como pueden observar, reduzco la complejidad de $10^{7}$, como en el primer algoritmo, a $3163$, una diferencia enorme que se nota cuando se ejecutan ambas celdas.  \n",
    "De hecho, el segundo algoritmo fue suficiente para que yo superase el problema de COJ. Sin embargo, para superar el problema que estamos tratando hoy, con números enormes, necesitamos algo más eficiente."
   ]
  },
  {
   "cell_type": "markdown",
   "metadata": {},
   "source": [
    "#### Explicación"
   ]
  },
  {
   "cell_type": "markdown",
   "metadata": {},
   "source": [
    "Antes de continuar con la criba de eratóstenes quiero explicar por qué sirve obtener la raíz cuadrada de un número para usarlo como límite.  \n",
    "Si nosotros observamos los divisores de un número podemos encontrar un comportamiento interesante, veamos los divisores de 16:  \n",
    "1. $1\\times16 $\n",
    "2. $2\\times8 $\n",
    "3. $4\\times4 $ (raíz cuadrada)\n",
    "4. $8\\times2 $\n",
    "6. $16\\times1 $"
   ]
  },
  {
   "cell_type": "markdown",
   "metadata": {},
   "source": [
    "La raíz cuadrada de un número es un buen límite para buscar divisores porque cuando descartamos los divisores que son menores a la raíz cuadrada, automáticamente estamos descartando los divisores más grandes.  \n",
    "Recordemos que el orden de los factores no altera el producto, entonces, todas las multiplicaciones por arriba de la raíz cuadrada son las mismas que ocurren por debajo."
   ]
  },
  {
   "cell_type": "markdown",
   "metadata": {},
   "source": [
    "## Criba de eratóstenes"
   ]
  },
  {
   "cell_type": "markdown",
   "metadata": {},
   "source": [
    "No quiero ponerme muy pesado con la teoría, así que aquí pongo el link de Wikipedia de la criba de eratóstenes: https://es.wikipedia.org/wiki/Criba_de_Erat%C3%B3stenes.  \n",
    "Lo importante es saber que, dado una lista de números, como es el caso del problema que queremos resolver, la criba de eratóstenes consiste en descartar los múltiplos de los números primos que ya conocemos. Es decir, en lugar de recorrer toda la lista de números y comprobar uno por uno cuál de ellos es un número primo; con la criba de eratóstenes, tomas un número primo conocido y recorres la lista quitando todos los múltiplos de este número. Puede sonar muy similar, pero no tiene nada que ver. Lo comprobaremos con estas dos soluciones que yo realicé para intentar superar el problema de SPOJ: Prime 1."
   ]
  },
  {
   "cell_type": "code",
   "execution_count": 1,
   "metadata": {},
   "outputs": [
    {
     "name": "stdout",
     "output_type": "stream",
     "text": [
      "2\n",
      "3\n",
      "5\n",
      "7\n",
      "11\n",
      "13\n",
      "17\n",
      "19\n",
      "\n"
     ]
    }
   ],
   "source": [
    "#Time limit \n",
    "from math import sqrt\n",
    "##Se consiguen todos los números primos hasta el límite máximo de 32000, raíz cuadrada de 1 000 000 000\n",
    "primos = [2]\n",
    "for i in range(3,32000,2):\n",
    "    limite = int(sqrt(i)+1)\n",
    "    es_primo = True\n",
    "    for primo in primos:\n",
    "        if(primo>limite):\n",
    "            break\n",
    "        if(i % primo == 0):\n",
    "            es_primo = False\n",
    "            break\n",
    "    if(es_primo):\n",
    "        primos.append(i)\n",
    "\n",
    "#Se realiza la prueba con los números del rango\n",
    "t = int(input())\n",
    "\n",
    "for i in range(t):\n",
    "\n",
    "    m , n = map(int , input().split())\n",
    "    \n",
    "    if (m % 2 != 0):\n",
    "        inicio = m\n",
    "    else:\n",
    "        inicio = m + 1\n",
    "        \n",
    "    if (inicio < 3):\n",
    "        inicio = 3\n",
    "        \n",
    "    if(m <= 2):\n",
    "        \n",
    "        print(2)\n",
    "    \n",
    "    #Se recorre la lista número por número comprobando si es número primo\n",
    "    #utilizando la raíz cuadrada como límite.\n",
    "    for j in range(inicio,n+1,2):\n",
    "        bandera = True\n",
    "        limite = int(sqrt(j)+1)\n",
    "        for primo in primos:\n",
    "            if(primo>limite):\n",
    "                break          \n",
    "            if(j % primo == 0):\n",
    "                bandera = False\n",
    "                break\n",
    "        if(bandera):      \n",
    "            print(j)\n",
    "    print()\n",
    "    \n",
    "    "
   ]
  },
  {
   "cell_type": "code",
   "execution_count": 44,
   "metadata": {},
   "outputs": [
    {
     "name": "stdout",
     "output_type": "stream",
     "text": [
      "2\n",
      "3\n",
      "5\n",
      "7\n",
      "11\n",
      "13\n",
      "17\n",
      "19\n",
      "\n"
     ]
    }
   ],
   "source": [
    "#Aprobado\n",
    "from math import sqrt\n",
    "\n",
    "##Se consiguen todos los números primos hasta el límite máximo de 32000, raíz cuadrada de 1 000 000 000\n",
    "primos = [2]\n",
    "for i in range(3,32000,2):\n",
    "    limite = int(sqrt(i)+1)\n",
    "    es_primo = True\n",
    "    for primo in primos:\n",
    "        if(primo>limite):\n",
    "            break\n",
    "        if(i % primo == 0):\n",
    "            es_primo = False\n",
    "            break\n",
    "    if(es_primo):\n",
    "        primos.append(i)\n",
    "\n",
    "#Se realiza la prueba con los números del rango\n",
    "t = int(input())\n",
    "\n",
    "for i in range(t):\n",
    "    #criba = []\n",
    "    m , n = map(int , input().split())\n",
    "    matriz_primos = [True]*(n-m+1)\n",
    "    if(m==1):\n",
    "        matriz_primos[0]=False\n",
    "    limite = int(sqrt(n)+1)\n",
    "    \n",
    "    for primo in primos:\n",
    "        if(primo>limite):\n",
    "            break\n",
    "        #encuentro un múltiplo del número primo para empezar a recorrer el arreglo\n",
    "        inicio = m - (m%primo)\n",
    "        \n",
    "        if(inicio==0):\n",
    "            inicio+= primo\n",
    "        \n",
    "        #si el inicio no se encuentra en el rango\n",
    "        if(inicio < m or inicio == primo):\n",
    "            inicio += primo\n",
    "            \n",
    "        #Recorro la lista quitando los múltiplos de los números primos que ya conozco\n",
    "        bloque_falso = [False]*len(matriz_primos[inicio-m:n+1:primo])\n",
    "        matriz_primos[inicio-m:n+1:primo] = bloque_falso\n",
    "    for i in range(len(matriz_primos)):\n",
    "        if(matriz_primos[i]):\n",
    "            print(i+m)\n",
    "    print()\n",
    "    \n",
    "    "
   ]
  },
  {
   "cell_type": "markdown",
   "metadata": {},
   "source": [
    "### Pasos comunes en ambas soluciones"
   ]
  },
  {
   "cell_type": "markdown",
   "metadata": {},
   "source": [
    "En amabas soluciones lo primero que hice fue obtener todos los números primos que hay hasta 32000 que es el límite que se obtiene si sacas la raíz cuadrada a $10^{9}$.  Al obtener todos los números primos inferiores a ese límite es mucho más rápido comprobar si un número es o no primo, ya que en lugar de recorrer todos los números que hay debajo de la raíz cuadrada, sólo debo recorrer los números primos que hay debajo de la raíz cuadrada. Es simplemente otra forma de optimización."
   ]
  },
  {
   "cell_type": "code",
   "execution_count": null,
   "metadata": {},
   "outputs": [],
   "source": [
    "##Se consiguen todos los números primos hasta el límite máximo de 32000, raíz cuadrada de 1 000 000 000\n",
    "primos = [2]\n",
    "for i in range(3,32000,2):\n",
    "    limite = int(sqrt(i)+1)\n",
    "    es_primo = True\n",
    "    for primo in primos:\n",
    "        if(primo>limite):\n",
    "            break\n",
    "        if(i % primo == 0):\n",
    "            es_primo = False\n",
    "            break\n",
    "    if(es_primo):\n",
    "        primos.append(i)"
   ]
  },
  {
   "cell_type": "markdown",
   "metadata": {},
   "source": [
    "### Solución 1"
   ]
  },
  {
   "cell_type": "markdown",
   "metadata": {},
   "source": [
    "La clave que diferencia ambas soluciones se encuentra en este ciclo **for**"
   ]
  },
  {
   "cell_type": "code",
   "execution_count": 43,
   "metadata": {},
   "outputs": [],
   "source": [
    "    for j in range(inicio,n+1,2): #recorro el rango ingresado por el usuario\n",
    "        bandera = True\n",
    "        limite = int(sqrt(j)+1)\n",
    "        for primo in primos: \n",
    "            if(primo>limite): \n",
    "                break          \n",
    "            if(j % primo == 0):  # \"divido\" (es un módulo) al número por cada número primo inferior al límite\n",
    "                bandera = False #si el número es divisible para un primo, entonces no es un número primo\n",
    "                break\n",
    "        if(bandera):      \n",
    "            print(j)"
   ]
  },
  {
   "cell_type": "markdown",
   "metadata": {},
   "source": [
    "Ya que tendo todos los número primos inferiores a la raíz cuadrada más grande: $\\sqrt{10^{9}}$  \n"
   ]
  },
  {
   "cell_type": "markdown",
   "metadata": {},
   "source": [
    "Recorro cada número en el rango ingresado por el usuario y lo \"divido\" para los números primos que ya he almacenado."
   ]
  },
  {
   "cell_type": "markdown",
   "metadata": {},
   "source": [
    "Aunque tengo todos los números primos que necesito y utilizo la técnica de la raíz cuadrada. Esto no es suficiente para superar el reto. Debo aplicar la criba de eratóstenes."
   ]
  },
  {
   "cell_type": "markdown",
   "metadata": {},
   "source": [
    "### Solución 2"
   ]
  },
  {
   "cell_type": "code",
   "execution_count": null,
   "metadata": {},
   "outputs": [],
   "source": [
    "        #Recorro la lista quitando los múltiplos de los números primos que ya conozco\n",
    "        bloque_falso = [False]*len(matriz_primos[inicio-m:n+1:primo])\n",
    "        matriz_primos[inicio-m:n+1:primo] = bloque_falso\n",
    "    for i in range(len(matriz_primos)):\n",
    "        if(matriz_primos[i]):\n",
    "            print(i+m)\n",
    "    print()"
   ]
  },
  {
   "cell_type": "markdown",
   "metadata": {},
   "source": [
    "No les voy a mentir, no llegué a esta solución yo solo. Después de varios intentos infructuosos me rendí y busqué la respuesta en internet. Me encontré con un blog: http://jamie-wong.com/2009/11/12/spoj-problem-2-prime-generator/ en el cual había un código en python sin mayor explicación. Si observan el código del blog y lo comparan con mi código, encontrarán notables diferencias, de hecho, nunca terminé de entender lo que hacía el amigo del blog. Sin embargo, me sirvió de inspiración en dos aspectos importantes. Me ayudó a entender que la respuesta estaba en la criba de eratóstenes y me ayudó a aplicar la criba de eratóstenes con una matriz booleana."
   ]
  },
  {
   "cell_type": "markdown",
   "metadata": {},
   "source": [
    "Cabe decirlo, si simplemente hubiera buscado en internet la respuesta sin haber luchado con mis propios recursos, jamás hubiera entendido la respuesta. Yo sabía lo que era una criba de eratóstenes aunque no sabía cómo aplpicarla, y sabía sobre la técnica de la raíz cuadrada. Cuando el momento llegó, yo codifiqué la respuesta desde cero. Entendía más o menos lo que el autor del blog había hecho y decidí plasmarlo en el código sin ayuda. Así que, en este punto, invito a cualquiera que esté leyendo esto a intentarlo por cuenta propia con los concpetos que ya he explicado y el último concepto que voy a explicar a continuación."
   ]
  },
  {
   "cell_type": "markdown",
   "metadata": {},
   "source": [
    "#### Una matriz booleana de comprobación"
   ]
  },
  {
   "cell_type": "markdown",
   "metadata": {},
   "source": [
    "En lugar de trabajar con los números directamente, tengo una \"matriz\", entre comillas porque al final es un vector, que utiliza la información de los números primos que ya conozco para descartar posibles números primos superiores. La clave está en esta línea de código:"
   ]
  },
  {
   "cell_type": "code",
   "execution_count": 45,
   "metadata": {},
   "outputs": [],
   "source": [
    "bloque_falso = [False]*len(matriz_primos[inicio-m:n+1:primo])"
   ]
  },
  {
   "cell_type": "markdown",
   "metadata": {},
   "source": [
    "La matriz empieza con todos los números siendo primos, es decir, la mariz está llena de **True**. Y a medida que recorro los números primos que ya conozco, voy colocando en falso todos los múltiplos de esos número primos."
   ]
  },
  {
   "cell_type": "code",
   "execution_count": null,
   "metadata": {},
   "outputs": [],
   "source": [
    "matriz_primos[inicio-m:n+1:primo]"
   ]
  },
  {
   "cell_type": "markdown",
   "metadata": {},
   "source": [
    "La clave para lograr la máxima eficiencia se encuentra en que recorro la lista en pasos tan grandes como los números primos. Es decir, cuando descarto múltiplos de 17, doy saltos de 17 pasos. Por lo tanto, ya no tengo que recorrer los 100 000  números que conforman el rango que ingresó el usuario. Sino, sólo tengo que dar pasos cada vez más y más grandes. "
   ]
  },
  {
   "cell_type": "code",
   "execution_count": 46,
   "metadata": {},
   "outputs": [
    {
     "name": "stdout",
     "output_type": "stream",
     "text": [
      "2\n",
      "3\n",
      "5\n",
      "7\n",
      "11\n",
      "13\n",
      "17\n",
      "19\n",
      "\n"
     ]
    }
   ],
   "source": [
    "    for i in range(len(matriz_primos)):\n",
    "        if(matriz_primos[i]):\n",
    "            print(i+m)\n",
    "    print()"
   ]
  },
  {
   "cell_type": "markdown",
   "metadata": {},
   "source": [
    "Al final, recorro la matriz de booleanos, y cuando me encuentro con un True, imprimo el índice de la celda."
   ]
  },
  {
   "cell_type": "markdown",
   "metadata": {},
   "source": [
    "## Conclusión"
   ]
  },
  {
   "cell_type": "markdown",
   "metadata": {},
   "source": [
    "Lo más importante para resolver un problema de este tipo es entender la metodología abstracta que se emplea. Se debe encontrar reglas generales que sirvan para resolver otros problemas en el futuro. Aquí, la lección más importante que aprendí fue a utilizar la criba de eratóstenes con una matriz. Al observar mi código espero que también encuentren una regla general que les ayude en otros problemas y la puedan poner en práctica. Lo más importante es enfrentarse a los desafíos de los jueces en línea dando lo máximo. Si ya no nos es posible avanzar, entonces podemos buscar ayuda, pero si no nos esforzamos primero, no lograremos entender las respuestas que encontremos ni tampoco seremos capaces de extraer reglas generales."
   ]
  },
  {
   "cell_type": "code",
   "execution_count": null,
   "metadata": {},
   "outputs": [],
   "source": []
  }
 ],
 "metadata": {
  "kernelspec": {
   "display_name": "Python 3",
   "language": "python",
   "name": "python3"
  },
  "language_info": {
   "codemirror_mode": {
    "name": "ipython",
    "version": 3
   },
   "file_extension": ".py",
   "mimetype": "text/x-python",
   "name": "python",
   "nbconvert_exporter": "python",
   "pygments_lexer": "ipython3",
   "version": "3.6.5"
  }
 },
 "nbformat": 4,
 "nbformat_minor": 2
}
